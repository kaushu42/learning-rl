{
 "cells": [
  {
   "cell_type": "code",
   "execution_count": null,
   "metadata": {},
   "outputs": [],
   "source": [
    "import numpy as np\n",
    "import scipy.stats as stats\n",
    "import matplotlib.pyplot as plt\n",
    "from tqdm import tqdm"
   ]
  },
  {
   "cell_type": "code",
   "execution_count": null,
   "metadata": {},
   "outputs": [],
   "source": [
    "class Bandit:\n",
    "    def __init__(self, mean, q=0):\n",
    "        self.mean = mean\n",
    "        self.std = 1\n",
    "        self.q = q\n",
    "        self.n = 0\n",
    "        self.alpha = None\n",
    "        \n",
    "    def plot_distribution(self):\n",
    "        x = np.linspace(self.mean - 3*self.std, self.mean + 3*self.std, 100)\n",
    "        distribution = stats.norm.pdf(x, self.mean, self.std)\n",
    "        plt.plot(x, distribution)\n",
    "    \n",
    "    def choose(self):\n",
    "        self.n += 1\n",
    "        alpha = self.alpha if self.alpha else self.n\n",
    "        reward = np.random.normal(self.mean, 1)\n",
    "        self.q = self.q + (1/alpha)*(reward - self.q)\n",
    "        return reward"
   ]
  },
  {
   "cell_type": "code",
   "execution_count": null,
   "metadata": {},
   "outputs": [],
   "source": [
    "def argmax(a):\n",
    "    return np.random.choice(np.where(a == np.max(a))[0])"
   ]
  },
  {
   "cell_type": "code",
   "execution_count": null,
   "metadata": {},
   "outputs": [],
   "source": [
    "def select_action(q, e=None, type='greedy'):\n",
    "    if type == 'greedy':\n",
    "        return argmax(q)\n",
    "    if type == 'e-greedy':\n",
    "        if e is None:\n",
    "            raise ValueError('Supply e when choosing e-greedy')\n",
    "        chance = np.random.uniform()\n",
    "        if chance <= e:\n",
    "            return np.random.choice(len(q))\n",
    "        return argmax(q)"
   ]
  },
  {
   "cell_type": "markdown",
   "metadata": {},
   "source": []
  },
  {
   "cell_type": "markdown",
   "metadata": {},
   "source": [
    "# Greedy Algorithm"
   ]
  },
  {
   "cell_type": "code",
   "execution_count": null,
   "metadata": {},
   "outputs": [],
   "source": [
    "repeat = 20\n",
    "n_iter = 5\n",
    "total_rewards_greedy = np.zeros(n_iter)\n",
    "for j in tqdm(range(repeat)):\n",
    "    distributions = np.random.normal(0, 1, size=N_ARMS)\n",
    "    bandits = [Bandit(i) for i in distributions]\n",
    "    rewards = np.zeros(n_iter)\n",
    "    for i in range(n_iter):\n",
    "        q_values = [i.q for i in bandits]\n",
    "        action = select_action(q_values, type='greedy')\n",
    "        bandit = bandits[action]\n",
    "        reward = bandit.choose()\n",
    "        rewards[i] = reward\n",
    "    total_rewards_greedy += rewards\n",
    "total_rewards_greedy = total_rewards_greedy/repeat"
   ]
  },
  {
   "cell_type": "markdown",
   "metadata": {},
   "source": [
    "# 0.1 Greedy"
   ]
  },
  {
   "cell_type": "code",
   "execution_count": null,
   "metadata": {},
   "outputs": [],
   "source": [
    "total_rewards_10 = np.zeros(n_iter)\n",
    "for j in tqdm(range(repeat)):\n",
    "    distributions = np.random.normal(0, 1, size=N_ARMS)\n",
    "    bandits = [Bandit(i) for i in distributions]\n",
    "    rewards = np.zeros(n_iter)\n",
    "    for i in range(n_iter):\n",
    "        q_values = [i.q for i in bandits]\n",
    "        action = select_action(q_values, e=0.1, type='e-greedy')\n",
    "        bandit = bandits[action]\n",
    "        reward = bandit.choose()\n",
    "        rewards[i] = reward\n",
    "    total_rewards_10 += rewards\n",
    "total_rewards_10 = total_rewards_10/repeat"
   ]
  },
  {
   "cell_type": "markdown",
   "metadata": {},
   "source": [
    "# 0.01 Greedy"
   ]
  },
  {
   "cell_type": "code",
   "execution_count": null,
   "metadata": {},
   "outputs": [],
   "source": [
    "total_rewards_1 = np.zeros(n_iter)\n",
    "for j in tqdm(range(repeat)):\n",
    "    distributions = np.random.normal(0, 1, size=N_ARMS)\n",
    "    bandits = [Bandit(i) for i in distributions]\n",
    "    rewards = np.zeros(n_iter)\n",
    "    for i in range(n_iter):\n",
    "        q_values = [i.q for i in bandits]\n",
    "        action = select_action(q_values, e=0.01, type='e-greedy')\n",
    "        bandit = bandits[action]\n",
    "        reward = bandit.choose()\n",
    "        rewards[i] = reward\n",
    "    total_rewards_1 += rewards\n",
    "total_rewards_1 = total_rewards_1/repeat"
   ]
  },
  {
   "cell_type": "markdown",
   "metadata": {},
   "source": [
    "# 0.5 greedy"
   ]
  },
  {
   "cell_type": "code",
   "execution_count": null,
   "metadata": {},
   "outputs": [],
   "source": [
    "total_rewards_50 = np.zeros(n_iter)\n",
    "for j in tqdm(range(repeat)):\n",
    "    distributions = np.random.normal(0, 1, size=N_ARMS)\n",
    "    bandits = [Bandit(i) for i in distributions]\n",
    "    rewards = np.zeros(n_iter)\n",
    "    for i in range(n_iter):\n",
    "        q_values = [i.q for i in bandits]\n",
    "        action = select_action(q_values, e=0.5, type='e-greedy')\n",
    "        bandit = bandits[action]\n",
    "        reward = bandit.choose()\n",
    "        rewards[i] = reward\n",
    "    total_rewards_50 += rewards\n",
    "total_rewards_50 = total_rewards_50/repeat"
   ]
  },
  {
   "cell_type": "markdown",
   "metadata": {},
   "source": [
    "# See all the results"
   ]
  },
  {
   "cell_type": "code",
   "execution_count": null,
   "metadata": {},
   "outputs": [],
   "source": [
    "plt.plot(total_rewards_greedy, label='greedy')\n",
    "plt.plot(total_rewards_10, label='0.1-greedy')\n",
    "plt.plot(total_rewards_1, label='0.01-greedy')\n",
    "plt.plot(total_rewards_50, label='0.5-greedy')\n",
    "plt.legend()"
   ]
  }
 ],
 "metadata": {
  "kernelspec": {
   "display_name": "Python 3",
   "language": "python",
   "name": "python3"
  },
  "language_info": {
   "codemirror_mode": {
    "name": "ipython",
    "version": 3
   },
   "file_extension": ".py",
   "mimetype": "text/x-python",
   "name": "python",
   "nbconvert_exporter": "python",
   "pygments_lexer": "ipython3",
   "version": "3.6.8"
  }
 },
 "nbformat": 4,
 "nbformat_minor": 2
}
