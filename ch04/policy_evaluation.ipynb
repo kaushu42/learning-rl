{
 "cells": [
  {
   "cell_type": "markdown",
   "metadata": {},
   "source": [
    "# A simple policy evaluation algorithm.\n",
    "For the better version that also implements policy improvement see the notebook *policy_iteration.ipynb*"
   ]
  },
  {
   "cell_type": "code",
   "execution_count": 1,
   "metadata": {},
   "outputs": [],
   "source": [
    "import numpy as np\n",
    "import matplotlib.pyplot as plt\n",
    "from matplotlib.table import Table"
   ]
  },
  {
   "cell_type": "code",
   "execution_count": 2,
   "metadata": {},
   "outputs": [],
   "source": [
    "def is_outside(i):\n",
    "    if (i < 0) or (i >= GRID_SIZE):\n",
    "        return True\n",
    "\n",
    "def is_terminal(state):\n",
    "    x, y = state\n",
    "    return (x == 0 and y == 0) or (x==GRID_SIZE-1 and y == GRID_SIZE-1)\n",
    "\n",
    "def take_action(state, action):\n",
    "    x, y = state\n",
    "    if is_terminal(state):\n",
    "        return (x, y), 0\n",
    "    dy, dx = ACTIONS[action]\n",
    "    x_new, y_new = x+dx, y+dy\n",
    "    if not is_outside(x_new):\n",
    "        x = x_new\n",
    "    if not is_outside(y_new):\n",
    "        y = y_new\n",
    "    return (x, y), REWARD\n",
    "\n",
    "def draw_image(image, decimals=2):\n",
    "    image = np.round(image, decimals)\n",
    "    fig, ax = plt.subplots()\n",
    "    ax.set_axis_off()\n",
    "    tb = Table(ax, bbox=[0, 0, 1, 1])\n",
    "\n",
    "    nrows, ncols = image.shape\n",
    "    width, height = 1.0 / ncols, 1.0 / nrows\n",
    "\n",
    "    # Add cells\n",
    "    for (i, j), val in np.ndenumerate(image):\n",
    "        tb.add_cell(i, j, width, height, text=val,\n",
    "                    loc='center', facecolor='white')\n",
    "\n",
    "        # Row and column labels...\n",
    "    for i in range(len(image)):\n",
    "        tb.add_cell(i, -1, width, height, text=i+1, loc='right',\n",
    "                    edgecolor='none', facecolor='none')\n",
    "        tb.add_cell(-1, i, width, height/2, text=i+1, loc='center',\n",
    "                    edgecolor='none', facecolor='none')\n",
    "    ax.add_table(tb)\n",
    "    return fig"
   ]
  },
  {
   "cell_type": "code",
   "execution_count": 3,
   "metadata": {},
   "outputs": [],
   "source": [
    "GRID_SIZE = 4\n",
    "GRID = np.zeros((GRID_SIZE, GRID_SIZE)) \n",
    "ACTIONS = {\n",
    "    \"←\": [-1, 0],\n",
    "    \"↑\": [0, -1],\n",
    "    \"→\": [1, 0],\n",
    "    \"↓\": [0, 1]\n",
    "}\n",
    "ACTION_PROBS = {\n",
    "    \"←\": 0.25,\n",
    "    \"↑\": 0.25,\n",
    "    \"→\": 0.25,\n",
    "    \"↓\": 0.25,\n",
    "}\n",
    "REWARD = -1\n",
    "GAMMA = 1"
   ]
  },
  {
   "cell_type": "code",
   "execution_count": 4,
   "metadata": {},
   "outputs": [],
   "source": [
    "iter_count = 0\n",
    "while True:\n",
    "    iter_count += 1\n",
    "    old_value = GRID.copy()\n",
    "    delta = 0\n",
    "    for i in range(GRID_SIZE):\n",
    "        for j in range(GRID_SIZE):\n",
    "            current_state = (i, j)\n",
    "            value = 0\n",
    "            for action in ACTIONS:\n",
    "                new_state, reward = take_action(current_state, action)\n",
    "                value += ACTION_PROBS[action]*(reward + GAMMA*GRID[new_state])\n",
    "            GRID[current_state] = value\n",
    "            delta = max(delta, np.abs(old_value[current_state] - GRID[current_state]).max())\n",
    "    if delta < 1e-6:\n",
    "        break"
   ]
  },
  {
   "cell_type": "code",
   "execution_count": 5,
   "metadata": {},
   "outputs": [
    {
     "data": {
      "text/plain": [
       "array([[  0., -14., -20., -22.],\n",
       "       [-14., -18., -20., -20.],\n",
       "       [-20., -20., -18., -14.],\n",
       "       [-22., -20., -14.,   0.]])"
      ]
     },
     "execution_count": 5,
     "metadata": {},
     "output_type": "execute_result"
    }
   ],
   "source": [
    "np.round(GRID, 2)"
   ]
  }
 ],
 "metadata": {
  "kernelspec": {
   "display_name": "Python 3",
   "language": "python",
   "name": "python3"
  },
  "language_info": {
   "codemirror_mode": {
    "name": "ipython",
    "version": 3
   },
   "file_extension": ".py",
   "mimetype": "text/x-python",
   "name": "python",
   "nbconvert_exporter": "python",
   "pygments_lexer": "ipython3",
   "version": "3.6.8"
  }
 },
 "nbformat": 4,
 "nbformat_minor": 2
}
